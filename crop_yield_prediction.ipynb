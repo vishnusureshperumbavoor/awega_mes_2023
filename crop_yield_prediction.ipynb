{
 "cells": [
  {
   "cell_type": "code",
   "execution_count": null,
   "id": "5b62645f",
   "metadata": {},
   "outputs": [],
   "source": [
    "import numpy as np\n",
    "import seaborn as sb\n",
    "import pandas as pd"
   ]
  },
  {
   "cell_type": "code",
   "execution_count": 2,
   "id": "9fac6f54",
   "metadata": {},
   "outputs": [],
   "source": [
    "df = pd.read_excel('crop_yield_prediction.xlsx')"
   ]
  },
  {
   "cell_type": "code",
   "execution_count": 3,
   "id": "f695f360",
   "metadata": {},
   "outputs": [
    {
     "data": {
      "text/html": [
       "<div>\n",
       "<style scoped>\n",
       "    .dataframe tbody tr th:only-of-type {\n",
       "        vertical-align: middle;\n",
       "    }\n",
       "\n",
       "    .dataframe tbody tr th {\n",
       "        vertical-align: top;\n",
       "    }\n",
       "\n",
       "    .dataframe thead th {\n",
       "        text-align: right;\n",
       "    }\n",
       "</style>\n",
       "<table border=\"1\" class=\"dataframe\">\n",
       "  <thead>\n",
       "    <tr style=\"text-align: right;\">\n",
       "      <th></th>\n",
       "      <th>S.No</th>\n",
       "      <th>Crop</th>\n",
       "      <th>District</th>\n",
       "      <th>Year</th>\n",
       "      <th>Min Temp</th>\n",
       "      <th>Max. Temp</th>\n",
       "      <th>Total Rainfall</th>\n",
       "      <th>Total Yield</th>\n",
       "    </tr>\n",
       "  </thead>\n",
       "  <tbody>\n",
       "    <tr>\n",
       "      <th>0</th>\n",
       "      <td>1</td>\n",
       "      <td>bengal gram</td>\n",
       "      <td>ADILABAD</td>\n",
       "      <td>2016</td>\n",
       "      <td>12.34</td>\n",
       "      <td>42.66</td>\n",
       "      <td>1130.150000</td>\n",
       "      <td>1551</td>\n",
       "    </tr>\n",
       "    <tr>\n",
       "      <th>1</th>\n",
       "      <td>10</td>\n",
       "      <td>bengal gram</td>\n",
       "      <td>BHADRADRI</td>\n",
       "      <td>2016</td>\n",
       "      <td>16.42</td>\n",
       "      <td>42.65</td>\n",
       "      <td>1145.008696</td>\n",
       "      <td>0</td>\n",
       "    </tr>\n",
       "    <tr>\n",
       "      <th>2</th>\n",
       "      <td>19</td>\n",
       "      <td>bengal gram</td>\n",
       "      <td>HYDERABAD</td>\n",
       "      <td>2016</td>\n",
       "      <td>17.52</td>\n",
       "      <td>41.88</td>\n",
       "      <td>885.481250</td>\n",
       "      <td>0</td>\n",
       "    </tr>\n",
       "    <tr>\n",
       "      <th>3</th>\n",
       "      <td>28</td>\n",
       "      <td>bengal gram</td>\n",
       "      <td>JAGTIAL</td>\n",
       "      <td>2016</td>\n",
       "      <td>12.84</td>\n",
       "      <td>43.34</td>\n",
       "      <td>960.355556</td>\n",
       "      <td>1299</td>\n",
       "    </tr>\n",
       "    <tr>\n",
       "      <th>4</th>\n",
       "      <td>37</td>\n",
       "      <td>bengal gram</td>\n",
       "      <td>JANGAON</td>\n",
       "      <td>2016</td>\n",
       "      <td>15.99</td>\n",
       "      <td>41.87</td>\n",
       "      <td>978.676923</td>\n",
       "      <td>1299</td>\n",
       "    </tr>\n",
       "  </tbody>\n",
       "</table>\n",
       "</div>"
      ],
      "text/plain": [
       "   S.No         Crop   District  Year  Min Temp  Max. Temp  Total Rainfall  \\\n",
       "0     1  bengal gram   ADILABAD  2016     12.34      42.66     1130.150000   \n",
       "1    10  bengal gram  BHADRADRI  2016     16.42      42.65     1145.008696   \n",
       "2    19  bengal gram  HYDERABAD  2016     17.52      41.88      885.481250   \n",
       "3    28  bengal gram    JAGTIAL  2016     12.84      43.34      960.355556   \n",
       "4    37  bengal gram    JANGAON  2016     15.99      41.87      978.676923   \n",
       "\n",
       "   Total Yield  \n",
       "0         1551  \n",
       "1            0  \n",
       "2            0  \n",
       "3         1299  \n",
       "4         1299  "
      ]
     },
     "execution_count": 3,
     "metadata": {},
     "output_type": "execute_result"
    }
   ],
   "source": [
    "df.head()"
   ]
  },
  {
   "cell_type": "code",
   "execution_count": 4,
   "id": "e562941a",
   "metadata": {},
   "outputs": [
    {
     "data": {
      "text/plain": [
       "array(['bengal gram', 'groundnut', 'maize'], dtype=object)"
      ]
     },
     "execution_count": 4,
     "metadata": {},
     "output_type": "execute_result"
    }
   ],
   "source": [
    "df[\"Crop\"].unique()"
   ]
  },
  {
   "cell_type": "code",
   "execution_count": 5,
   "id": "77a1714b",
   "metadata": {},
   "outputs": [
    {
     "data": {
      "text/plain": [
       "array(['ADILABAD', 'BHADRADRI', 'HYDERABAD', 'JAGTIAL', 'JANGAON',\n",
       "       'JAYASHANKAR', 'JOGULAMBA', 'KAMAREDDY', 'KARIMNAGAR', 'KHAMMAM',\n",
       "       'KOMARAM BHEEM', 'MAHABUBABAD', 'MAHABUBNAGAR', 'MANCHERIAL',\n",
       "       'MEDAK', 'MEDCHAL MALKAJG', 'NAGARKURNOOL', 'NALGONDA', 'NIRMAL',\n",
       "       'NIZAMABAD', 'PEDDAPALLI', 'RAJANNA', 'RANGAREDDY', 'SANGAREDDY',\n",
       "       'SIDDIPET', 'SURYAPET', 'VIKARABAD', 'WANAPARTHY',\n",
       "       'WARANGAL RURAL', 'WARANGAL URBAN', 'YADADRI'], dtype=object)"
      ]
     },
     "execution_count": 5,
     "metadata": {},
     "output_type": "execute_result"
    }
   ],
   "source": [
    "df[\"District\"].unique()"
   ]
  },
  {
   "cell_type": "code",
   "execution_count": 6,
   "id": "626c3b74",
   "metadata": {},
   "outputs": [
    {
     "data": {
      "text/plain": [
       "array([2016, 2017, 2018], dtype=int64)"
      ]
     },
     "execution_count": 6,
     "metadata": {},
     "output_type": "execute_result"
    }
   ],
   "source": [
    "df[\"Year\"].unique()"
   ]
  },
  {
   "cell_type": "code",
   "execution_count": 7,
   "id": "2fd1db4c",
   "metadata": {},
   "outputs": [
    {
     "name": "stdout",
     "output_type": "stream",
     "text": [
      "<class 'pandas.core.frame.DataFrame'>\n",
      "RangeIndex: 279 entries, 0 to 278\n",
      "Data columns (total 8 columns):\n",
      " #   Column          Non-Null Count  Dtype  \n",
      "---  ------          --------------  -----  \n",
      " 0   S.No            279 non-null    int64  \n",
      " 1   Crop            279 non-null    object \n",
      " 2   District        279 non-null    object \n",
      " 3   Year            279 non-null    int64  \n",
      " 4   Min Temp        279 non-null    float64\n",
      " 5   Max. Temp       279 non-null    float64\n",
      " 6   Total Rainfall  279 non-null    float64\n",
      " 7   Total Yield     279 non-null    int64  \n",
      "dtypes: float64(3), int64(3), object(2)\n",
      "memory usage: 17.6+ KB\n"
     ]
    }
   ],
   "source": [
    "df.info()"
   ]
  },
  {
   "cell_type": "code",
   "execution_count": 8,
   "id": "af59fd98",
   "metadata": {},
   "outputs": [
    {
     "data": {
      "text/plain": [
       "S.No              0\n",
       "Crop              0\n",
       "District          0\n",
       "Year              0\n",
       "Min Temp          0\n",
       "Max. Temp         0\n",
       "Total Rainfall    0\n",
       "Total Yield       0\n",
       "dtype: int64"
      ]
     },
     "execution_count": 8,
     "metadata": {},
     "output_type": "execute_result"
    }
   ],
   "source": [
    "df.isnull().sum()"
   ]
  },
  {
   "cell_type": "code",
   "execution_count": 9,
   "id": "58c51b9d",
   "metadata": {},
   "outputs": [
    {
     "data": {
      "text/plain": [
       "(279, 8)"
      ]
     },
     "execution_count": 9,
     "metadata": {},
     "output_type": "execute_result"
    }
   ],
   "source": [
    "df.shape"
   ]
  },
  {
   "cell_type": "code",
   "execution_count": 10,
   "id": "992dafb2",
   "metadata": {},
   "outputs": [
    {
     "data": {
      "text/plain": [
       "<AxesSubplot: >"
      ]
     },
     "execution_count": 10,
     "metadata": {},
     "output_type": "execute_result"
    },
    {
     "data": {
      "image/png": "[encoded data removed]",
      "text/plain": [
       "<Figure size 640x480 with 1 Axes>"
      ]
     },
     "metadata": {},
     "output_type": "display_data"
    }
   ],
   "source": [
    "sb.boxplot(df['Min Temp'])"
   ]
  },
  {
   "cell_type": "code",
   "execution_count": 11,
   "id": "cced963f",
   "metadata": {},
   "outputs": [
    {
     "data": {
      "text/plain": [
       "<AxesSubplot: >"
      ]
     },
     "execution_count": 11,
     "metadata": {},
     "output_type": "execute_result"
    },
    {
     "data": {
      "image/png": "[encoded data removed]",
      "text/plain": [
       "<Figure size 640x480 with 1 Axes>"
      ]
     },
     "metadata": {},
     "output_type": "display_data"
    }
   ],
   "source": [
    "sb.boxplot(df['Max. Temp'])"
   ]
  },
  {
   "cell_type": "code",
   "execution_count": 12,
   "id": "d36a50b1",
   "metadata": {},
   "outputs": [
    {
     "data": {
      "text/plain": [
       "<AxesSubplot: >"
      ]
     },
     "execution_count": 12,
     "metadata": {},
     "output_type": "execute_result"
    },
    {
     "data": {
      "image/png": "[encoded data removed]",
      "text/plain": [
       "<Figure size 640x480 with 1 Axes>"
      ]
     },
     "metadata": {},
     "output_type": "display_data"
    }
   ],
   "source": [
    "sb.boxplot(df['Total Rainfall'])"
   ]
  },
  {
   "cell_type": "code",
   "execution_count": 13,
   "id": "5036519c",
   "metadata": {},
   "outputs": [
    {
     "data": {
      "text/plain": [
       "<AxesSubplot: >"
      ]
     },
     "execution_count": 13,
     "metadata": {},
     "output_type": "execute_result"
    },
    {
     "data": {
      "image/png": "[encoded data removed]",
      "text/plain": [
       "<Figure size 640x480 with 1 Axes>"
      ]
     },
     "metadata": {},
     "output_type": "display_data"
    }
   ],
   "source": [
    "sb.boxplot(df['Total Yield'])"
   ]
  },
  {
   "cell_type": "markdown",
   "id": "cf1f273c",
   "metadata": {},
   "source": [
    "# Removing outliers of minimum temperature"
   ]
  },
  {
   "cell_type": "code",
   "execution_count": 14,
   "id": "2e70603a",
   "metadata": {},
   "outputs": [
    {
     "name": "stderr",
     "output_type": "stream",
     "text": [
      "C:\\Users\\LENOVO\\AppData\\Local\\Temp\\ipykernel_3408\\2275980713.py:1: DeprecationWarning: the `interpolation=` argument to percentile was renamed to `method=`, which has additional options.\n",
      "Users of the modes 'nearest', 'lower', 'higher', or 'midpoint' are encouraged to review the method they used. (Deprecated NumPy 1.22)\n",
      "  Q1 = np.percentile(df[\"Min Temp\"],25,interpolation=\"midpoint\")\n",
      "C:\\Users\\LENOVO\\AppData\\Local\\Temp\\ipykernel_3408\\2275980713.py:2: DeprecationWarning: the `interpolation=` argument to percentile was renamed to `method=`, which has additional options.\n",
      "Users of the modes 'nearest', 'lower', 'higher', or 'midpoint' are encouraged to review the method they used. (Deprecated NumPy 1.22)\n",
      "  Q3 = np.percentile(df[\"Min Temp\"],75,interpolation=\"midpoint\")\n"
     ]
    }
   ],
   "source": [
    "Q1 = np.percentile(df[\"Min Temp\"],25,interpolation=\"midpoint\")\n",
    "Q3 = np.percentile(df[\"Min Temp\"],75,interpolation=\"midpoint\")\n",
    "IQR = Q3-Q1"
   ]
  },
  {
   "cell_type": "code",
   "execution_count": 15,
   "id": "06a8dbfb",
   "metadata": {},
   "outputs": [],
   "source": [
    "upper = np.where(df['Min Temp'] >= (Q3+1.5*IQR))\n",
    "lower = np.where(df['Min Temp'] <= (Q1-1.5*IQR))"
   ]
  },
  {
   "cell_type": "code",
   "execution_count": 16,
   "id": "cf087e66",
   "metadata": {},
   "outputs": [
    {
     "name": "stdout",
     "output_type": "stream",
     "text": [
      "old shape :  (279, 8)\n"
     ]
    }
   ],
   "source": [
    "print(\"old shape : \", df.shape)"
   ]
  },
  {
   "cell_type": "code",
   "execution_count": 17,
   "id": "ed27593c",
   "metadata": {},
   "outputs": [
    {
     "name": "stdout",
     "output_type": "stream",
     "text": [
      "new shape :  (279, 8)\n"
     ]
    }
   ],
   "source": [
    "df.drop(upper[0],inplace=True)\n",
    "df.drop(lower[0],inplace=True)\n",
    "print(\"new shape : \", df.shape)"
   ]
  },
  {
   "cell_type": "markdown",
   "id": "e38834c9",
   "metadata": {},
   "source": [
    "# Removing outliers of maximum temperature"
   ]
  },
  {
   "cell_type": "code",
   "execution_count": 18,
   "id": "6973bd0e",
   "metadata": {},
   "outputs": [
    {
     "name": "stderr",
     "output_type": "stream",
     "text": [
      "C:\\Users\\LENOVO\\AppData\\Local\\Temp\\ipykernel_3408\\4224182228.py:1: DeprecationWarning: the `interpolation=` argument to percentile was renamed to `method=`, which has additional options.\n",
      "Users of the modes 'nearest', 'lower', 'higher', or 'midpoint' are encouraged to review the method they used. (Deprecated NumPy 1.22)\n",
      "  Q1 = np.percentile(df[\"Max. Temp\"],25,interpolation=\"midpoint\")\n",
      "C:\\Users\\LENOVO\\AppData\\Local\\Temp\\ipykernel_3408\\4224182228.py:2: DeprecationWarning: the `interpolation=` argument to percentile was renamed to `method=`, which has additional options.\n",
      "Users of the modes 'nearest', 'lower', 'higher', or 'midpoint' are encouraged to review the method they used. (Deprecated NumPy 1.22)\n",
      "  Q3 = np.percentile(df[\"Max. Temp\"],75,interpolation=\"midpoint\")\n"
     ]
    }
   ],
   "source": [
    "Q1 = np.percentile(df[\"Max. Temp\"],25,interpolation=\"midpoint\")\n",
    "Q3 = np.percentile(df[\"Max. Temp\"],75,interpolation=\"midpoint\")\n",
    "IQR = Q3-Q1"
   ]
  },
  {
   "cell_type": "code",
   "execution_count": 19,
   "id": "9b7a3892",
   "metadata": {},
   "outputs": [],
   "source": [
    "upper = np.where(df['Max. Temp'] >= (Q3+1.5*IQR))\n",
    "lower = np.where(df['Max. Temp'] <= (Q1-1.5*IQR))"
   ]
  },
  {
   "cell_type": "code",
   "execution_count": 20,
   "id": "fd3b6f01",
   "metadata": {},
   "outputs": [
    {
     "name": "stdout",
     "output_type": "stream",
     "text": [
      "old shape :  (279, 8)\n"
     ]
    }
   ],
   "source": [
    "print(\"old shape : \", df.shape)"
   ]
  },
  {
   "cell_type": "code",
   "execution_count": 21,
   "id": "267a1496",
   "metadata": {},
   "outputs": [
    {
     "name": "stdout",
     "output_type": "stream",
     "text": [
      "new shape :  (279, 8)\n"
     ]
    }
   ],
   "source": [
    "df.drop(upper[0],inplace=True)\n",
    "df.drop(lower[0],inplace=True)\n",
    "print(\"new shape : \", df.shape)"
   ]
  },
  {
   "cell_type": "markdown",
   "id": "ddc91ef5",
   "metadata": {},
   "source": [
    "# Removing outliers of total rainfall"
   ]
  },
  {
   "cell_type": "code",
   "execution_count": 22,
   "id": "f386589d",
   "metadata": {
    "scrolled": true
   },
   "outputs": [
    {
     "name": "stderr",
     "output_type": "stream",
     "text": [
      "C:\\Users\\LENOVO\\AppData\\Local\\Temp\\ipykernel_3408\\668819811.py:1: DeprecationWarning: the `interpolation=` argument to percentile was renamed to `method=`, which has additional options.\n",
      "Users of the modes 'nearest', 'lower', 'higher', or 'midpoint' are encouraged to review the method they used. (Deprecated NumPy 1.22)\n",
      "  Q1 = np.percentile(df[\"Total Rainfall\"],25,interpolation=\"midpoint\")\n",
      "C:\\Users\\LENOVO\\AppData\\Local\\Temp\\ipykernel_3408\\668819811.py:2: DeprecationWarning: the `interpolation=` argument to percentile was renamed to `method=`, which has additional options.\n",
      "Users of the modes 'nearest', 'lower', 'higher', or 'midpoint' are encouraged to review the method they used. (Deprecated NumPy 1.22)\n",
      "  Q3 = np.percentile(df[\"Total Rainfall\"],75,interpolation=\"midpoint\")\n"
     ]
    }
   ],
   "source": [
    "Q1 = np.percentile(df[\"Total Rainfall\"],25,interpolation=\"midpoint\")\n",
    "Q3 = np.percentile(df[\"Total Rainfall\"],75,interpolation=\"midpoint\")\n",
    "IQR = Q3-Q1"
   ]
  },
  {
   "cell_type": "code",
   "execution_count": 23,
   "id": "dfe19b0b",
   "metadata": {},
   "outputs": [],
   "source": [
    "upper = np.where(df['Total Rainfall'] >= (Q3+1.5*IQR))\n",
    "lower = np.where(df['Total Rainfall'] <= (Q1-1.5*IQR))"
   ]
  },
  {
   "cell_type": "code",
   "execution_count": 24,
   "id": "9a1901af",
   "metadata": {},
   "outputs": [
    {
     "name": "stdout",
     "output_type": "stream",
     "text": [
      "old shape :  (279, 8)\n"
     ]
    }
   ],
   "source": [
    "print(\"old shape : \", df.shape)"
   ]
  },
  {
   "cell_type": "code",
   "execution_count": 25,
   "id": "8d619d31",
   "metadata": {},
   "outputs": [
    {
     "name": "stdout",
     "output_type": "stream",
     "text": [
      "new shape :  (279, 8)\n"
     ]
    }
   ],
   "source": [
    "df.drop(upper[0],inplace=True)\n",
    "df.drop(lower[0],inplace=True)\n",
    "print(\"new shape : \", df.shape)"
   ]
  },
  {
   "cell_type": "markdown",
   "id": "dd14830b",
   "metadata": {},
   "source": [
    "# Graphical Analysis "
   ]
  },
  {
   "cell_type": "code",
   "execution_count": 26,
   "id": "ff218ef5",
   "metadata": {},
   "outputs": [
    {
     "data": {
      "text/plain": [
       "Index(['S.No', 'Crop', 'District', 'Year', 'Min Temp', 'Max. Temp',\n",
       "       'Total Rainfall', 'Total Yield'],\n",
       "      dtype='object')"
      ]
     },
     "execution_count": 26,
     "metadata": {},
     "output_type": "execute_result"
    }
   ],
   "source": [
    "df.columns"
   ]
  },
  {
   "cell_type": "code",
   "execution_count": 27,
   "id": "26bd41b3",
   "metadata": {},
   "outputs": [
    {
     "data": {
      "text/plain": [
       "<seaborn.axisgrid.FacetGrid at 0x2a476c1f5b0>"
      ]
     },
     "execution_count": 27,
     "metadata": {},
     "output_type": "execute_result"
    },
    {
     "data": {
      "image/png": "[encoded data removed]",
      "text/plain": [
       "<Figure size 585.25x500 with 1 Axes>"
      ]
     },
     "metadata": {},
     "output_type": "display_data"
    }
   ],
   "source": [
    "sb.relplot(data = df,x=\"District\",y=\"Total Yield\",hue=\"Year\",kind=\"line\")"
   ]
  },
  {
   "cell_type": "code",
   "execution_count": 28,
   "id": "8f340377",
   "metadata": {},
   "outputs": [],
   "source": [
    "dist = (df['Crop'])\n",
    "dist = set(dist)\n",
    "dist = list(dist)\n",
    "dist = {dist[i] : i for i  in range(0,len(dist))}\n",
    "df[\"Crop\"] = df[\"Crop\"].map(dist)"
   ]
  },
  {
   "cell_type": "code",
   "execution_count": 29,
   "id": "33e07b2c",
   "metadata": {},
   "outputs": [],
   "source": [
    "dist = (df['District'])\n",
    "dist = set(dist)\n",
    "dist = list(dist)\n",
    "dist = {dist[i] : i for i  in range(0,len(dist))}\n",
    "df[\"District\"] = df[\"District\"].map(dist)"
   ]
  },
  {
   "cell_type": "code",
   "execution_count": 30,
   "id": "24113a4f",
   "metadata": {},
   "outputs": [
    {
     "data": {
      "text/html": [
       "<div>\n",
       "<style scoped>\n",
       "    .dataframe tbody tr th:only-of-type {\n",
       "        vertical-align: middle;\n",
       "    }\n",
       "\n",
       "    .dataframe tbody tr th {\n",
       "        vertical-align: top;\n",
       "    }\n",
       "\n",
       "    .dataframe thead th {\n",
       "        text-align: right;\n",
       "    }\n",
       "</style>\n",
       "<table border=\"1\" class=\"dataframe\">\n",
       "  <thead>\n",
       "    <tr style=\"text-align: right;\">\n",
       "      <th></th>\n",
       "      <th>S.No</th>\n",
       "      <th>Crop</th>\n",
       "      <th>District</th>\n",
       "      <th>Year</th>\n",
       "      <th>Min Temp</th>\n",
       "      <th>Max. Temp</th>\n",
       "      <th>Total Rainfall</th>\n",
       "      <th>Total Yield</th>\n",
       "    </tr>\n",
       "  </thead>\n",
       "  <tbody>\n",
       "    <tr>\n",
       "      <th>0</th>\n",
       "      <td>1</td>\n",
       "      <td>2</td>\n",
       "      <td>29</td>\n",
       "      <td>2016</td>\n",
       "      <td>12.34</td>\n",
       "      <td>42.66</td>\n",
       "      <td>1130.150000</td>\n",
       "      <td>1551</td>\n",
       "    </tr>\n",
       "    <tr>\n",
       "      <th>1</th>\n",
       "      <td>10</td>\n",
       "      <td>2</td>\n",
       "      <td>22</td>\n",
       "      <td>2016</td>\n",
       "      <td>16.42</td>\n",
       "      <td>42.65</td>\n",
       "      <td>1145.008696</td>\n",
       "      <td>0</td>\n",
       "    </tr>\n",
       "    <tr>\n",
       "      <th>2</th>\n",
       "      <td>19</td>\n",
       "      <td>2</td>\n",
       "      <td>10</td>\n",
       "      <td>2016</td>\n",
       "      <td>17.52</td>\n",
       "      <td>41.88</td>\n",
       "      <td>885.481250</td>\n",
       "      <td>0</td>\n",
       "    </tr>\n",
       "    <tr>\n",
       "      <th>3</th>\n",
       "      <td>28</td>\n",
       "      <td>2</td>\n",
       "      <td>4</td>\n",
       "      <td>2016</td>\n",
       "      <td>12.84</td>\n",
       "      <td>43.34</td>\n",
       "      <td>960.355556</td>\n",
       "      <td>1299</td>\n",
       "    </tr>\n",
       "    <tr>\n",
       "      <th>4</th>\n",
       "      <td>37</td>\n",
       "      <td>2</td>\n",
       "      <td>14</td>\n",
       "      <td>2016</td>\n",
       "      <td>15.99</td>\n",
       "      <td>41.87</td>\n",
       "      <td>978.676923</td>\n",
       "      <td>1299</td>\n",
       "    </tr>\n",
       "  </tbody>\n",
       "</table>\n",
       "</div>"
      ],
      "text/plain": [
       "   S.No  Crop  District  Year  Min Temp  Max. Temp  Total Rainfall  \\\n",
       "0     1     2        29  2016     12.34      42.66     1130.150000   \n",
       "1    10     2        22  2016     16.42      42.65     1145.008696   \n",
       "2    19     2        10  2016     17.52      41.88      885.481250   \n",
       "3    28     2         4  2016     12.84      43.34      960.355556   \n",
       "4    37     2        14  2016     15.99      41.87      978.676923   \n",
       "\n",
       "   Total Yield  \n",
       "0         1551  \n",
       "1            0  \n",
       "2            0  \n",
       "3         1299  \n",
       "4         1299  "
      ]
     },
     "execution_count": 30,
     "metadata": {},
     "output_type": "execute_result"
    }
   ],
   "source": [
    "df.head()"
   ]
  },
  {
   "cell_type": "code",
   "execution_count": 31,
   "id": "5364b62f",
   "metadata": {},
   "outputs": [],
   "source": [
    "import matplotlib.pyplot as plt"
   ]
  },
  {
   "cell_type": "code",
   "execution_count": 32,
   "id": "a0182162",
   "metadata": {},
   "outputs": [
    {
     "data": {
      "image/png": "[encoded data removed]",
      "text/plain": [
       "<Figure size 640x480 with 2 Axes>"
      ]
     },
     "metadata": {},
     "output_type": "display_data"
    }
   ],
   "source": [
    "sb.heatmap(df.corr(),cmap=\"YlGnBu\",annot=True)\n",
    "plt.show()"
   ]
  },
  {
   "cell_type": "markdown",
   "id": "82166d59",
   "metadata": {},
   "source": [
    "# Splitting training set and testing set"
   ]
  },
  {
   "cell_type": "code",
   "execution_count": 33,
   "id": "9363fb39",
   "metadata": {},
   "outputs": [
    {
     "data": {
      "text/plain": [
       "Index(['S.No', 'Crop', 'District', 'Year', 'Min Temp', 'Max. Temp',\n",
       "       'Total Rainfall', 'Total Yield'],\n",
       "      dtype='object')"
      ]
     },
     "execution_count": 33,
     "metadata": {},
     "output_type": "execute_result"
    }
   ],
   "source": [
    "df.columns"
   ]
  },
  {
   "cell_type": "code",
   "execution_count": 34,
   "id": "983d4fe5",
   "metadata": {},
   "outputs": [],
   "source": [
    "features = df[['Crop','District','Year','Min Temp','Max. Temp','Total Rainfall']]\n",
    "labels = df['Total Yield']"
   ]
  },
  {
   "cell_type": "markdown",
   "id": "e77c01a9",
   "metadata": {},
   "source": [
    "# Random Forest Regressor model"
   ]
  },
  {
   "cell_type": "code",
   "execution_count": 72,
   "id": "44a42e7a",
   "metadata": {},
   "outputs": [
    {
     "data": {
      "text/html": [
       "<style>#sk-container-id-5 {color: black;background-color: white;}#sk-container-id-5 pre{padding: 0;}#sk-container-id-5 div.sk-toggleable {background-color: white;}#sk-container-id-5 label.sk-toggleable__label {cursor: pointer;display: block;width: 100%;margin-bottom: 0;padding: 0.3em;box-sizing: border-box;text-align: center;}#sk-container-id-5 label.sk-toggleable__label-arrow:before {content: \"▸\";float: left;margin-right: 0.25em;color: #696969;}#sk-container-id-5 label.sk-toggleable__label-arrow:hover:before {color: black;}#sk-container-id-5 div.sk-estimator:hover label.sk-toggleable__label-arrow:before {color: black;}#sk-container-id-5 div.sk-toggleable__content {max-height: 0;max-width: 0;overflow: hidden;text-align: left;background-color: #f0f8ff;}#sk-container-id-5 div.sk-toggleable__content pre {margin: 0.2em;color: black;border-radius: 0.25em;background-color: #f0f8ff;}#sk-container-id-5 input.sk-toggleable__control:checked~div.sk-toggleable__content {max-height: 200px;max-width: 100%;overflow: auto;}#sk-container-id-5 input.sk-toggleable__control:checked~label.sk-toggleable__label-arrow:before {content: \"▾\";}#sk-container-id-5 div.sk-estimator input.sk-toggleable__control:checked~label.sk-toggleable__label {background-color: #d4ebff;}#sk-container-id-5 div.sk-label input.sk-toggleable__control:checked~label.sk-toggleable__label {background-color: #d4ebff;}#sk-container-id-5 input.sk-hidden--visually {border: 0;clip: rect(1px 1px 1px 1px);clip: rect(1px, 1px, 1px, 1px);height: 1px;margin: -1px;overflow: hidden;padding: 0;position: absolute;width: 1px;}#sk-container-id-5 div.sk-estimator {font-family: monospace;background-color: #f0f8ff;border: 1px dotted black;border-radius: 0.25em;box-sizing: border-box;margin-bottom: 0.5em;}#sk-container-id-5 div.sk-estimator:hover {background-color: #d4ebff;}#sk-container-id-5 div.sk-parallel-item::after {content: \"\";width: 100%;border-bottom: 1px solid gray;flex-grow: 1;}#sk-container-id-5 div.sk-label:hover label.sk-toggleable__label {background-color: #d4ebff;}#sk-container-id-5 div.sk-serial::before {content: \"\";position: absolute;border-left: 1px solid gray;box-sizing: border-box;top: 0;bottom: 0;left: 50%;z-index: 0;}#sk-container-id-5 div.sk-serial {display: flex;flex-direction: column;align-items: center;background-color: white;padding-right: 0.2em;padding-left: 0.2em;position: relative;}#sk-container-id-5 div.sk-item {position: relative;z-index: 1;}#sk-container-id-5 div.sk-parallel {display: flex;align-items: stretch;justify-content: center;background-color: white;position: relative;}#sk-container-id-5 div.sk-item::before, #sk-container-id-5 div.sk-parallel-item::before {content: \"\";position: absolute;border-left: 1px solid gray;box-sizing: border-box;top: 0;bottom: 0;left: 50%;z-index: -1;}#sk-container-id-5 div.sk-parallel-item {display: flex;flex-direction: column;z-index: 1;position: relative;background-color: white;}#sk-container-id-5 div.sk-parallel-item:first-child::after {align-self: flex-end;width: 50%;}#sk-container-id-5 div.sk-parallel-item:last-child::after {align-self: flex-start;width: 50%;}#sk-container-id-5 div.sk-parallel-item:only-child::after {width: 0;}#sk-container-id-5 div.sk-dashed-wrapped {border: 1px dashed gray;margin: 0 0.4em 0.5em 0.4em;box-sizing: border-box;padding-bottom: 0.4em;background-color: white;}#sk-container-id-5 div.sk-label label {font-family: monospace;font-weight: bold;display: inline-block;line-height: 1.2em;}#sk-container-id-5 div.sk-label-container {text-align: center;}#sk-container-id-5 div.sk-container {/* jupyter's `normalize.less` sets `[hidden] { display: none; }` but bootstrap.min.css set `[hidden] { display: none !important; }` so we also need the `!important` here to be able to override the default hidden behavior on the sphinx rendered scikit-learn.org. See: https://github.com/scikit-learn/scikit-learn/issues/21755 */display: inline-block !important;position: relative;}#sk-container-id-5 div.sk-text-repr-fallback {display: none;}</style><div id=\"sk-container-id-5\" class=\"sk-top-container\"><div class=\"sk-text-repr-fallback\"><pre>RandomForestRegressor(max_depth=1000, random_state=0)</pre><b>In a Jupyter environment, please rerun this cell to show the HTML representation or trust the notebook. <br />On GitHub, the HTML representation is unable to render, please try loading this page with nbviewer.org.</b></div><div class=\"sk-container\" hidden><div class=\"sk-item\"><div class=\"sk-estimator sk-toggleable\"><input class=\"sk-toggleable__control sk-hidden--visually\" id=\"sk-estimator-id-5\" type=\"checkbox\" checked><label for=\"sk-estimator-id-5\" class=\"sk-toggleable__label sk-toggleable__label-arrow\">RandomForestRegressor</label><div class=\"sk-toggleable__content\"><pre>RandomForestRegressor(max_depth=1000, random_state=0)</pre></div></div></div></div></div>"
      ],
      "text/plain": [
       "RandomForestRegressor(max_depth=1000, random_state=0)"
      ]
     },
     "execution_count": 72,
     "metadata": {},
     "output_type": "execute_result"
    }
   ],
   "source": [
    "from sklearn.model_selection import train_test_split\n",
    "x_train, x_test, y_train, y_test = train_test_split(features,labels,test_size=0.2,random_state=2)\n",
    "\n",
    "from sklearn.metrics import classification_report\n",
    "from sklearn import metrics\n",
    "from sklearn import tree\n",
    "from sklearn.ensemble import RandomForestRegressor\n",
    "from sklearn.metrics import r2_score\n",
    "from sklearn.datasets import make_regression\n",
    "\n",
    "model2 = RandomForestRegressor(max_depth=1000,random_state=0)\n",
    "model2.fit(x_train,y_train)"
   ]
  },
  {
   "cell_type": "code",
   "execution_count": 73,
   "id": "f39e4519",
   "metadata": {},
   "outputs": [],
   "source": [
    "y_pred = model2.predict(x_test)"
   ]
  },
  {
   "cell_type": "code",
   "execution_count": 74,
   "id": "1dc33255",
   "metadata": {},
   "outputs": [
    {
     "data": {
      "text/html": [
       "<div>\n",
       "<style scoped>\n",
       "    .dataframe tbody tr th:only-of-type {\n",
       "        vertical-align: middle;\n",
       "    }\n",
       "\n",
       "    .dataframe tbody tr th {\n",
       "        vertical-align: top;\n",
       "    }\n",
       "\n",
       "    .dataframe thead th {\n",
       "        text-align: right;\n",
       "    }\n",
       "</style>\n",
       "<table border=\"1\" class=\"dataframe\">\n",
       "  <thead>\n",
       "    <tr style=\"text-align: right;\">\n",
       "      <th></th>\n",
       "      <th>Actual</th>\n",
       "      <th>Prediction</th>\n",
       "    </tr>\n",
       "  </thead>\n",
       "  <tbody>\n",
       "    <tr>\n",
       "      <th>155</th>\n",
       "      <td>2489</td>\n",
       "      <td>2388.94</td>\n",
       "    </tr>\n",
       "    <tr>\n",
       "      <th>7</th>\n",
       "      <td>1340</td>\n",
       "      <td>1275.00</td>\n",
       "    </tr>\n",
       "    <tr>\n",
       "      <th>99</th>\n",
       "      <td>2025</td>\n",
       "      <td>2143.90</td>\n",
       "    </tr>\n",
       "    <tr>\n",
       "      <th>13</th>\n",
       "      <td>1299</td>\n",
       "      <td>1299.91</td>\n",
       "    </tr>\n",
       "    <tr>\n",
       "      <th>112</th>\n",
       "      <td>2044</td>\n",
       "      <td>1970.68</td>\n",
       "    </tr>\n",
       "  </tbody>\n",
       "</table>\n",
       "</div>"
      ],
      "text/plain": [
       "     Actual  Prediction\n",
       "155    2489     2388.94\n",
       "7      1340     1275.00\n",
       "99     2025     2143.90\n",
       "13     1299     1299.91\n",
       "112    2044     1970.68"
      ]
     },
     "execution_count": 74,
     "metadata": {},
     "output_type": "execute_result"
    }
   ],
   "source": [
    "df2 = pd.DataFrame({'Actual':y_test,'Prediction':y_pred})\n",
    "df2.head()"
   ]
  },
  {
   "cell_type": "code",
   "execution_count": 75,
   "id": "5b51c034",
   "metadata": {},
   "outputs": [
    {
     "data": {
      "text/plain": [
       "0.7734925150846136"
      ]
     },
     "execution_count": 75,
     "metadata": {},
     "output_type": "execute_result"
    }
   ],
   "source": [
    "from sklearn.metrics import r2_score\n",
    "r2_score(y_test,y_pred)"
   ]
  },
  {
   "cell_type": "code",
   "execution_count": 76,
   "id": "b77d0154",
   "metadata": {},
   "outputs": [
    {
     "data": {
      "text/plain": [
       "array([1672.04])"
      ]
     },
     "execution_count": 76,
     "metadata": {},
     "output_type": "execute_result"
    }
   ],
   "source": [
    "user_input = pd.DataFrame({\n",
    "    'Crop':2,\n",
    "    'District':27,\n",
    "    'Year':2018,\n",
    "    'Min Temp':12.46,\n",
    "    'Max. Temp':41.66,\n",
    "    'Total Rainfall':884.291806,\n",
    "},index=[0])\n",
    "model2.predict(user_input)"
   ]
  },
  {
   "cell_type": "code",
   "execution_count": 79,
   "id": "73bbe9e7",
   "metadata": {},
   "outputs": [
    {
     "name": "stderr",
     "output_type": "stream",
     "text": [
      "C:\\Users\\LENOVO\\AppData\\Local\\Programs\\Python\\Python310\\lib\\site-packages\\sklearn\\base.py:450: UserWarning: X does not have valid feature names, but RandomForestRegressor was fitted with feature names\n",
      "  warnings.warn(\n"
     ]
    },
    {
     "data": {
      "text/plain": [
       "array([1672.04])"
      ]
     },
     "execution_count": 79,
     "metadata": {},
     "output_type": "execute_result"
    }
   ],
   "source": [
    "user_input = [[2,27,2018,12.46,41.66,884.291]]\n",
    "model2.predict(user_input)"
   ]
  },
  {
   "cell_type": "markdown",
   "id": "6d79e452",
   "metadata": {},
   "source": [
    "# Export ML model"
   ]
  },
  {
   "cell_type": "code",
   "execution_count": 80,
   "id": "2b48b027",
   "metadata": {},
   "outputs": [
    {
     "data": {
      "text/plain": [
       "['crop_yield_prediction.json']"
      ]
     },
     "execution_count": 80,
     "metadata": {},
     "output_type": "execute_result"
    }
   ],
   "source": [
    "from joblib import dump\n",
    "dump(model2, 'crop_yield_prediction.json')"
   ]
  },
  {
   "cell_type": "markdown",
   "id": "9172d56a",
   "metadata": {},
   "source": [
    "# Linear Regression model"
   ]
  },
  {
   "cell_type": "code",
   "execution_count": 43,
   "id": "7b3b01ec",
   "metadata": {},
   "outputs": [
    {
     "data": {
      "text/html": [
       "<style>#sk-container-id-2 {color: black;background-color: white;}#sk-container-id-2 pre{padding: 0;}#sk-container-id-2 div.sk-toggleable {background-color: white;}#sk-container-id-2 label.sk-toggleable__label {cursor: pointer;display: block;width: 100%;margin-bottom: 0;padding: 0.3em;box-sizing: border-box;text-align: center;}#sk-container-id-2 label.sk-toggleable__label-arrow:before {content: \"▸\";float: left;margin-right: 0.25em;color: #696969;}#sk-container-id-2 label.sk-toggleable__label-arrow:hover:before {color: black;}#sk-container-id-2 div.sk-estimator:hover label.sk-toggleable__label-arrow:before {color: black;}#sk-container-id-2 div.sk-toggleable__content {max-height: 0;max-width: 0;overflow: hidden;text-align: left;background-color: #f0f8ff;}#sk-container-id-2 div.sk-toggleable__content pre {margin: 0.2em;color: black;border-radius: 0.25em;background-color: #f0f8ff;}#sk-container-id-2 input.sk-toggleable__control:checked~div.sk-toggleable__content {max-height: 200px;max-width: 100%;overflow: auto;}#sk-container-id-2 input.sk-toggleable__control:checked~label.sk-toggleable__label-arrow:before {content: \"▾\";}#sk-container-id-2 div.sk-estimator input.sk-toggleable__control:checked~label.sk-toggleable__label {background-color: #d4ebff;}#sk-container-id-2 div.sk-label input.sk-toggleable__control:checked~label.sk-toggleable__label {background-color: #d4ebff;}#sk-container-id-2 input.sk-hidden--visually {border: 0;clip: rect(1px 1px 1px 1px);clip: rect(1px, 1px, 1px, 1px);height: 1px;margin: -1px;overflow: hidden;padding: 0;position: absolute;width: 1px;}#sk-container-id-2 div.sk-estimator {font-family: monospace;background-color: #f0f8ff;border: 1px dotted black;border-radius: 0.25em;box-sizing: border-box;margin-bottom: 0.5em;}#sk-container-id-2 div.sk-estimator:hover {background-color: #d4ebff;}#sk-container-id-2 div.sk-parallel-item::after {content: \"\";width: 100%;border-bottom: 1px solid gray;flex-grow: 1;}#sk-container-id-2 div.sk-label:hover label.sk-toggleable__label {background-color: #d4ebff;}#sk-container-id-2 div.sk-serial::before {content: \"\";position: absolute;border-left: 1px solid gray;box-sizing: border-box;top: 0;bottom: 0;left: 50%;z-index: 0;}#sk-container-id-2 div.sk-serial {display: flex;flex-direction: column;align-items: center;background-color: white;padding-right: 0.2em;padding-left: 0.2em;position: relative;}#sk-container-id-2 div.sk-item {position: relative;z-index: 1;}#sk-container-id-2 div.sk-parallel {display: flex;align-items: stretch;justify-content: center;background-color: white;position: relative;}#sk-container-id-2 div.sk-item::before, #sk-container-id-2 div.sk-parallel-item::before {content: \"\";position: absolute;border-left: 1px solid gray;box-sizing: border-box;top: 0;bottom: 0;left: 50%;z-index: -1;}#sk-container-id-2 div.sk-parallel-item {display: flex;flex-direction: column;z-index: 1;position: relative;background-color: white;}#sk-container-id-2 div.sk-parallel-item:first-child::after {align-self: flex-end;width: 50%;}#sk-container-id-2 div.sk-parallel-item:last-child::after {align-self: flex-start;width: 50%;}#sk-container-id-2 div.sk-parallel-item:only-child::after {width: 0;}#sk-container-id-2 div.sk-dashed-wrapped {border: 1px dashed gray;margin: 0 0.4em 0.5em 0.4em;box-sizing: border-box;padding-bottom: 0.4em;background-color: white;}#sk-container-id-2 div.sk-label label {font-family: monospace;font-weight: bold;display: inline-block;line-height: 1.2em;}#sk-container-id-2 div.sk-label-container {text-align: center;}#sk-container-id-2 div.sk-container {/* jupyter's `normalize.less` sets `[hidden] { display: none; }` but bootstrap.min.css set `[hidden] { display: none !important; }` so we also need the `!important` here to be able to override the default hidden behavior on the sphinx rendered scikit-learn.org. See: https://github.com/scikit-learn/scikit-learn/issues/21755 */display: inline-block !important;position: relative;}#sk-container-id-2 div.sk-text-repr-fallback {display: none;}</style><div id=\"sk-container-id-2\" class=\"sk-top-container\"><div class=\"sk-text-repr-fallback\"><pre>LinearRegression()</pre><b>In a Jupyter environment, please rerun this cell to show the HTML representation or trust the notebook. <br />On GitHub, the HTML representation is unable to render, please try loading this page with nbviewer.org.</b></div><div class=\"sk-container\" hidden><div class=\"sk-item\"><div class=\"sk-estimator sk-toggleable\"><input class=\"sk-toggleable__control sk-hidden--visually\" id=\"sk-estimator-id-2\" type=\"checkbox\" checked><label for=\"sk-estimator-id-2\" class=\"sk-toggleable__label sk-toggleable__label-arrow\">LinearRegression</label><div class=\"sk-toggleable__content\"><pre>LinearRegression()</pre></div></div></div></div></div>"
      ],
      "text/plain": [
       "LinearRegression()"
      ]
     },
     "execution_count": 43,
     "metadata": {},
     "output_type": "execute_result"
    }
   ],
   "source": [
    "from sklearn.linear_model import LinearRegression\n",
    "model = LinearRegression()\n",
    "model.fit(x_train,y_train)"
   ]
  },
  {
   "cell_type": "code",
   "execution_count": 44,
   "id": "b1d26b9c",
   "metadata": {},
   "outputs": [],
   "source": [
    "y_pred = model.predict(x_test)"
   ]
  },
  {
   "cell_type": "code",
   "execution_count": 45,
   "id": "a361ec18",
   "metadata": {},
   "outputs": [
    {
     "data": {
      "text/html": [
       "<div>\n",
       "<style scoped>\n",
       "    .dataframe tbody tr th:only-of-type {\n",
       "        vertical-align: middle;\n",
       "    }\n",
       "\n",
       "    .dataframe tbody tr th {\n",
       "        vertical-align: top;\n",
       "    }\n",
       "\n",
       "    .dataframe thead th {\n",
       "        text-align: right;\n",
       "    }\n",
       "</style>\n",
       "<table border=\"1\" class=\"dataframe\">\n",
       "  <thead>\n",
       "    <tr style=\"text-align: right;\">\n",
       "      <th></th>\n",
       "      <th>Actual</th>\n",
       "      <th>Prediction</th>\n",
       "    </tr>\n",
       "  </thead>\n",
       "  <tbody>\n",
       "    <tr>\n",
       "      <th>155</th>\n",
       "      <td>2489</td>\n",
       "      <td>4789.400945</td>\n",
       "    </tr>\n",
       "    <tr>\n",
       "      <th>7</th>\n",
       "      <td>1340</td>\n",
       "      <td>2799.769059</td>\n",
       "    </tr>\n",
       "    <tr>\n",
       "      <th>99</th>\n",
       "      <td>2025</td>\n",
       "      <td>3273.876708</td>\n",
       "    </tr>\n",
       "    <tr>\n",
       "      <th>13</th>\n",
       "      <td>1299</td>\n",
       "      <td>2387.633878</td>\n",
       "    </tr>\n",
       "    <tr>\n",
       "      <th>112</th>\n",
       "      <td>2044</td>\n",
       "      <td>3480.374064</td>\n",
       "    </tr>\n",
       "  </tbody>\n",
       "</table>\n",
       "</div>"
      ],
      "text/plain": [
       "     Actual   Prediction\n",
       "155    2489  4789.400945\n",
       "7      1340  2799.769059\n",
       "99     2025  3273.876708\n",
       "13     1299  2387.633878\n",
       "112    2044  3480.374064"
      ]
     },
     "execution_count": 45,
     "metadata": {},
     "output_type": "execute_result"
    }
   ],
   "source": [
    "df2 = pd.DataFrame({'Actual':y_test,'Prediction':y_pred})\n",
    "df2.head()"
   ]
  },
  {
   "cell_type": "code",
   "execution_count": 46,
   "id": "64d6d2f5",
   "metadata": {},
   "outputs": [
    {
     "data": {
      "text/plain": [
       "-0.30294784900333793"
      ]
     },
     "execution_count": 46,
     "metadata": {},
     "output_type": "execute_result"
    }
   ],
   "source": [
    "from sklearn.metrics import r2_score\n",
    "r2_score(y_test,y_pred)"
   ]
  },
  {
   "cell_type": "markdown",
   "id": "dbc15f87",
   "metadata": {},
   "source": [
    "# Decision Tree Regressor"
   ]
  },
  {
   "cell_type": "code",
   "execution_count": 47,
   "id": "9fe7b249",
   "metadata": {},
   "outputs": [
    {
     "data": {
      "text/html": [
       "<style>#sk-container-id-3 {color: black;background-color: white;}#sk-container-id-3 pre{padding: 0;}#sk-container-id-3 div.sk-toggleable {background-color: white;}#sk-container-id-3 label.sk-toggleable__label {cursor: pointer;display: block;width: 100%;margin-bottom: 0;padding: 0.3em;box-sizing: border-box;text-align: center;}#sk-container-id-3 label.sk-toggleable__label-arrow:before {content: \"▸\";float: left;margin-right: 0.25em;color: #696969;}#sk-container-id-3 label.sk-toggleable__label-arrow:hover:before {color: black;}#sk-container-id-3 div.sk-estimator:hover label.sk-toggleable__label-arrow:before {color: black;}#sk-container-id-3 div.sk-toggleable__content {max-height: 0;max-width: 0;overflow: hidden;text-align: left;background-color: #f0f8ff;}#sk-container-id-3 div.sk-toggleable__content pre {margin: 0.2em;color: black;border-radius: 0.25em;background-color: #f0f8ff;}#sk-container-id-3 input.sk-toggleable__control:checked~div.sk-toggleable__content {max-height: 200px;max-width: 100%;overflow: auto;}#sk-container-id-3 input.sk-toggleable__control:checked~label.sk-toggleable__label-arrow:before {content: \"▾\";}#sk-container-id-3 div.sk-estimator input.sk-toggleable__control:checked~label.sk-toggleable__label {background-color: #d4ebff;}#sk-container-id-3 div.sk-label input.sk-toggleable__control:checked~label.sk-toggleable__label {background-color: #d4ebff;}#sk-container-id-3 input.sk-hidden--visually {border: 0;clip: rect(1px 1px 1px 1px);clip: rect(1px, 1px, 1px, 1px);height: 1px;margin: -1px;overflow: hidden;padding: 0;position: absolute;width: 1px;}#sk-container-id-3 div.sk-estimator {font-family: monospace;background-color: #f0f8ff;border: 1px dotted black;border-radius: 0.25em;box-sizing: border-box;margin-bottom: 0.5em;}#sk-container-id-3 div.sk-estimator:hover {background-color: #d4ebff;}#sk-container-id-3 div.sk-parallel-item::after {content: \"\";width: 100%;border-bottom: 1px solid gray;flex-grow: 1;}#sk-container-id-3 div.sk-label:hover label.sk-toggleable__label {background-color: #d4ebff;}#sk-container-id-3 div.sk-serial::before {content: \"\";position: absolute;border-left: 1px solid gray;box-sizing: border-box;top: 0;bottom: 0;left: 50%;z-index: 0;}#sk-container-id-3 div.sk-serial {display: flex;flex-direction: column;align-items: center;background-color: white;padding-right: 0.2em;padding-left: 0.2em;position: relative;}#sk-container-id-3 div.sk-item {position: relative;z-index: 1;}#sk-container-id-3 div.sk-parallel {display: flex;align-items: stretch;justify-content: center;background-color: white;position: relative;}#sk-container-id-3 div.sk-item::before, #sk-container-id-3 div.sk-parallel-item::before {content: \"\";position: absolute;border-left: 1px solid gray;box-sizing: border-box;top: 0;bottom: 0;left: 50%;z-index: -1;}#sk-container-id-3 div.sk-parallel-item {display: flex;flex-direction: column;z-index: 1;position: relative;background-color: white;}#sk-container-id-3 div.sk-parallel-item:first-child::after {align-self: flex-end;width: 50%;}#sk-container-id-3 div.sk-parallel-item:last-child::after {align-self: flex-start;width: 50%;}#sk-container-id-3 div.sk-parallel-item:only-child::after {width: 0;}#sk-container-id-3 div.sk-dashed-wrapped {border: 1px dashed gray;margin: 0 0.4em 0.5em 0.4em;box-sizing: border-box;padding-bottom: 0.4em;background-color: white;}#sk-container-id-3 div.sk-label label {font-family: monospace;font-weight: bold;display: inline-block;line-height: 1.2em;}#sk-container-id-3 div.sk-label-container {text-align: center;}#sk-container-id-3 div.sk-container {/* jupyter's `normalize.less` sets `[hidden] { display: none; }` but bootstrap.min.css set `[hidden] { display: none !important; }` so we also need the `!important` here to be able to override the default hidden behavior on the sphinx rendered scikit-learn.org. See: https://github.com/scikit-learn/scikit-learn/issues/21755 */display: inline-block !important;position: relative;}#sk-container-id-3 div.sk-text-repr-fallback {display: none;}</style><div id=\"sk-container-id-3\" class=\"sk-top-container\"><div class=\"sk-text-repr-fallback\"><pre>DecisionTreeRegressor()</pre><b>In a Jupyter environment, please rerun this cell to show the HTML representation or trust the notebook. <br />On GitHub, the HTML representation is unable to render, please try loading this page with nbviewer.org.</b></div><div class=\"sk-container\" hidden><div class=\"sk-item\"><div class=\"sk-estimator sk-toggleable\"><input class=\"sk-toggleable__control sk-hidden--visually\" id=\"sk-estimator-id-3\" type=\"checkbox\" checked><label for=\"sk-estimator-id-3\" class=\"sk-toggleable__label sk-toggleable__label-arrow\">DecisionTreeRegressor</label><div class=\"sk-toggleable__content\"><pre>DecisionTreeRegressor()</pre></div></div></div></div></div>"
      ],
      "text/plain": [
       "DecisionTreeRegressor()"
      ]
     },
     "execution_count": 47,
     "metadata": {},
     "output_type": "execute_result"
    }
   ],
   "source": [
    "from sklearn.tree import DecisionTreeRegressor\n",
    "from sklearn.metrics import mean_squared_error\n",
    "\n",
    "model = DecisionTreeRegressor()\n",
    "model.fit(x_train,y_train)"
   ]
  },
  {
   "cell_type": "code",
   "execution_count": 48,
   "id": "08fb9458",
   "metadata": {},
   "outputs": [],
   "source": [
    "y_pred = model.predict(x_test)"
   ]
  },
  {
   "cell_type": "code",
   "execution_count": 49,
   "id": "fbe67465",
   "metadata": {},
   "outputs": [
    {
     "data": {
      "text/html": [
       "<div>\n",
       "<style scoped>\n",
       "    .dataframe tbody tr th:only-of-type {\n",
       "        vertical-align: middle;\n",
       "    }\n",
       "\n",
       "    .dataframe tbody tr th {\n",
       "        vertical-align: top;\n",
       "    }\n",
       "\n",
       "    .dataframe thead th {\n",
       "        text-align: right;\n",
       "    }\n",
       "</style>\n",
       "<table border=\"1\" class=\"dataframe\">\n",
       "  <thead>\n",
       "    <tr style=\"text-align: right;\">\n",
       "      <th></th>\n",
       "      <th>Actual</th>\n",
       "      <th>Prediction</th>\n",
       "    </tr>\n",
       "  </thead>\n",
       "  <tbody>\n",
       "    <tr>\n",
       "      <th>155</th>\n",
       "      <td>2489</td>\n",
       "      <td>2504.0</td>\n",
       "    </tr>\n",
       "    <tr>\n",
       "      <th>7</th>\n",
       "      <td>1340</td>\n",
       "      <td>1551.0</td>\n",
       "    </tr>\n",
       "    <tr>\n",
       "      <th>99</th>\n",
       "      <td>2025</td>\n",
       "      <td>1463.0</td>\n",
       "    </tr>\n",
       "    <tr>\n",
       "      <th>13</th>\n",
       "      <td>1299</td>\n",
       "      <td>1558.0</td>\n",
       "    </tr>\n",
       "    <tr>\n",
       "      <th>112</th>\n",
       "      <td>2044</td>\n",
       "      <td>2068.0</td>\n",
       "    </tr>\n",
       "  </tbody>\n",
       "</table>\n",
       "</div>"
      ],
      "text/plain": [
       "     Actual  Prediction\n",
       "155    2489      2504.0\n",
       "7      1340      1551.0\n",
       "99     2025      1463.0\n",
       "13     1299      1558.0\n",
       "112    2044      2068.0"
      ]
     },
     "execution_count": 49,
     "metadata": {},
     "output_type": "execute_result"
    }
   ],
   "source": [
    "df2 = pd.DataFrame({'Actual':y_test,'Prediction':y_pred})\n",
    "df2.head()"
   ]
  },
  {
   "cell_type": "code",
   "execution_count": 50,
   "id": "af4e2a23",
   "metadata": {},
   "outputs": [
    {
     "name": "stdout",
     "output_type": "stream",
     "text": [
      "Mean Squared Error: 1026014.6964285715\n"
     ]
    }
   ],
   "source": [
    "mse = mean_squared_error(y_test, y_pred)\n",
    "print(\"Mean Squared Error:\", mse)"
   ]
  },
  {
   "cell_type": "code",
   "execution_count": 51,
   "id": "b450a549",
   "metadata": {},
   "outputs": [
    {
     "data": {
      "text/plain": [
       "0.400496141393489"
      ]
     },
     "execution_count": 51,
     "metadata": {},
     "output_type": "execute_result"
    }
   ],
   "source": [
    "\n",
    "r2_score(y_test,y_pred)"
   ]
  },
  {
   "cell_type": "markdown",
   "id": "314e4ff4",
   "metadata": {},
   "source": [
    "# Support Vector Machine"
   ]
  },
  {
   "cell_type": "code",
   "execution_count": 52,
   "id": "8c6fec16",
   "metadata": {},
   "outputs": [
    {
     "data": {
      "text/html": [
       "<style>#sk-container-id-4 {color: black;background-color: white;}#sk-container-id-4 pre{padding: 0;}#sk-container-id-4 div.sk-toggleable {background-color: white;}#sk-container-id-4 label.sk-toggleable__label {cursor: pointer;display: block;width: 100%;margin-bottom: 0;padding: 0.3em;box-sizing: border-box;text-align: center;}#sk-container-id-4 label.sk-toggleable__label-arrow:before {content: \"▸\";float: left;margin-right: 0.25em;color: #696969;}#sk-container-id-4 label.sk-toggleable__label-arrow:hover:before {color: black;}#sk-container-id-4 div.sk-estimator:hover label.sk-toggleable__label-arrow:before {color: black;}#sk-container-id-4 div.sk-toggleable__content {max-height: 0;max-width: 0;overflow: hidden;text-align: left;background-color: #f0f8ff;}#sk-container-id-4 div.sk-toggleable__content pre {margin: 0.2em;color: black;border-radius: 0.25em;background-color: #f0f8ff;}#sk-container-id-4 input.sk-toggleable__control:checked~div.sk-toggleable__content {max-height: 200px;max-width: 100%;overflow: auto;}#sk-container-id-4 input.sk-toggleable__control:checked~label.sk-toggleable__label-arrow:before {content: \"▾\";}#sk-container-id-4 div.sk-estimator input.sk-toggleable__control:checked~label.sk-toggleable__label {background-color: #d4ebff;}#sk-container-id-4 div.sk-label input.sk-toggleable__control:checked~label.sk-toggleable__label {background-color: #d4ebff;}#sk-container-id-4 input.sk-hidden--visually {border: 0;clip: rect(1px 1px 1px 1px);clip: rect(1px, 1px, 1px, 1px);height: 1px;margin: -1px;overflow: hidden;padding: 0;position: absolute;width: 1px;}#sk-container-id-4 div.sk-estimator {font-family: monospace;background-color: #f0f8ff;border: 1px dotted black;border-radius: 0.25em;box-sizing: border-box;margin-bottom: 0.5em;}#sk-container-id-4 div.sk-estimator:hover {background-color: #d4ebff;}#sk-container-id-4 div.sk-parallel-item::after {content: \"\";width: 100%;border-bottom: 1px solid gray;flex-grow: 1;}#sk-container-id-4 div.sk-label:hover label.sk-toggleable__label {background-color: #d4ebff;}#sk-container-id-4 div.sk-serial::before {content: \"\";position: absolute;border-left: 1px solid gray;box-sizing: border-box;top: 0;bottom: 0;left: 50%;z-index: 0;}#sk-container-id-4 div.sk-serial {display: flex;flex-direction: column;align-items: center;background-color: white;padding-right: 0.2em;padding-left: 0.2em;position: relative;}#sk-container-id-4 div.sk-item {position: relative;z-index: 1;}#sk-container-id-4 div.sk-parallel {display: flex;align-items: stretch;justify-content: center;background-color: white;position: relative;}#sk-container-id-4 div.sk-item::before, #sk-container-id-4 div.sk-parallel-item::before {content: \"\";position: absolute;border-left: 1px solid gray;box-sizing: border-box;top: 0;bottom: 0;left: 50%;z-index: -1;}#sk-container-id-4 div.sk-parallel-item {display: flex;flex-direction: column;z-index: 1;position: relative;background-color: white;}#sk-container-id-4 div.sk-parallel-item:first-child::after {align-self: flex-end;width: 50%;}#sk-container-id-4 div.sk-parallel-item:last-child::after {align-self: flex-start;width: 50%;}#sk-container-id-4 div.sk-parallel-item:only-child::after {width: 0;}#sk-container-id-4 div.sk-dashed-wrapped {border: 1px dashed gray;margin: 0 0.4em 0.5em 0.4em;box-sizing: border-box;padding-bottom: 0.4em;background-color: white;}#sk-container-id-4 div.sk-label label {font-family: monospace;font-weight: bold;display: inline-block;line-height: 1.2em;}#sk-container-id-4 div.sk-label-container {text-align: center;}#sk-container-id-4 div.sk-container {/* jupyter's `normalize.less` sets `[hidden] { display: none; }` but bootstrap.min.css set `[hidden] { display: none !important; }` so we also need the `!important` here to be able to override the default hidden behavior on the sphinx rendered scikit-learn.org. See: https://github.com/scikit-learn/scikit-learn/issues/21755 */display: inline-block !important;position: relative;}#sk-container-id-4 div.sk-text-repr-fallback {display: none;}</style><div id=\"sk-container-id-4\" class=\"sk-top-container\"><div class=\"sk-text-repr-fallback\"><pre>SVR(kernel=&#x27;linear&#x27;)</pre><b>In a Jupyter environment, please rerun this cell to show the HTML representation or trust the notebook. <br />On GitHub, the HTML representation is unable to render, please try loading this page with nbviewer.org.</b></div><div class=\"sk-container\" hidden><div class=\"sk-item\"><div class=\"sk-estimator sk-toggleable\"><input class=\"sk-toggleable__control sk-hidden--visually\" id=\"sk-estimator-id-4\" type=\"checkbox\" checked><label for=\"sk-estimator-id-4\" class=\"sk-toggleable__label sk-toggleable__label-arrow\">SVR</label><div class=\"sk-toggleable__content\"><pre>SVR(kernel=&#x27;linear&#x27;)</pre></div></div></div></div></div>"
      ],
      "text/plain": [
       "SVR(kernel='linear')"
      ]
     },
     "execution_count": 52,
     "metadata": {},
     "output_type": "execute_result"
    }
   ],
   "source": [
    "from sklearn.svm import SVR\n",
    "model = SVR(kernel='linear')\n",
    "model.fit(x_train,y_train)"
   ]
  },
  {
   "cell_type": "code",
   "execution_count": 53,
   "id": "9ae32051",
   "metadata": {},
   "outputs": [],
   "source": [
    "y_pred = model.predict(x_test)"
   ]
  },
  {
   "cell_type": "code",
   "execution_count": 54,
   "id": "233fe844",
   "metadata": {},
   "outputs": [
    {
     "data": {
      "text/html": [
       "<div>\n",
       "<style scoped>\n",
       "    .dataframe tbody tr th:only-of-type {\n",
       "        vertical-align: middle;\n",
       "    }\n",
       "\n",
       "    .dataframe tbody tr th {\n",
       "        vertical-align: top;\n",
       "    }\n",
       "\n",
       "    .dataframe thead th {\n",
       "        text-align: right;\n",
       "    }\n",
       "</style>\n",
       "<table border=\"1\" class=\"dataframe\">\n",
       "  <thead>\n",
       "    <tr style=\"text-align: right;\">\n",
       "      <th></th>\n",
       "      <th>Actual</th>\n",
       "      <th>Prediction</th>\n",
       "    </tr>\n",
       "  </thead>\n",
       "  <tbody>\n",
       "    <tr>\n",
       "      <th>155</th>\n",
       "      <td>2489</td>\n",
       "      <td>2279.886805</td>\n",
       "    </tr>\n",
       "    <tr>\n",
       "      <th>7</th>\n",
       "      <td>1340</td>\n",
       "      <td>1964.469593</td>\n",
       "    </tr>\n",
       "    <tr>\n",
       "      <th>99</th>\n",
       "      <td>2025</td>\n",
       "      <td>1961.279263</td>\n",
       "    </tr>\n",
       "    <tr>\n",
       "      <th>13</th>\n",
       "      <td>1299</td>\n",
       "      <td>1726.641990</td>\n",
       "    </tr>\n",
       "    <tr>\n",
       "      <th>112</th>\n",
       "      <td>2044</td>\n",
       "      <td>1980.663540</td>\n",
       "    </tr>\n",
       "  </tbody>\n",
       "</table>\n",
       "</div>"
      ],
      "text/plain": [
       "     Actual   Prediction\n",
       "155    2489  2279.886805\n",
       "7      1340  1964.469593\n",
       "99     2025  1961.279263\n",
       "13     1299  1726.641990\n",
       "112    2044  1980.663540"
      ]
     },
     "execution_count": 54,
     "metadata": {},
     "output_type": "execute_result"
    }
   ],
   "source": [
    "df2 = pd.DataFrame({'Actual':y_test,'Prediction':y_pred})\n",
    "df2.head()"
   ]
  },
  {
   "cell_type": "code",
   "execution_count": 55,
   "id": "9c40effd",
   "metadata": {},
   "outputs": [
    {
     "data": {
      "text/plain": [
       "-0.06748175367689302"
      ]
     },
     "execution_count": 55,
     "metadata": {},
     "output_type": "execute_result"
    }
   ],
   "source": [
    "r2_score(y_test,y_pred)"
   ]
  },
  {
   "cell_type": "markdown",
   "id": "5cad3973",
   "metadata": {},
   "source": [
    "# Aritificial Neural Networks"
   ]
  },
  {
   "cell_type": "code",
   "execution_count": null,
   "id": "d0984efd",
   "metadata": {},
   "outputs": [],
   "source": [
    "from keras.models import Sequential\n",
    "from keras.layers import Dense"
   ]
  },
  {
   "cell_type": "code",
   "execution_count": 61,
   "id": "c66152b3",
   "metadata": {},
   "outputs": [
    {
     "name": "stdout",
     "output_type": "stream",
     "text": [
      "Epoch 1/50\n",
      "7/7 [==============================] - 2s 6ms/step - loss: -44476.4961 - accuracy: 0.0314\n",
      "Epoch 2/50\n",
      "7/7 [==============================] - 0s 7ms/step - loss: -1067607.6250 - accuracy: 0.0000e+00\n",
      "Epoch 3/50\n",
      "7/7 [==============================] - 0s 14ms/step - loss: -2078013.3750 - accuracy: 0.0000e+00\n",
      "Epoch 4/50\n",
      "7/7 [==============================] - 0s 10ms/step - loss: -3218461.2500 - accuracy: 0.0000e+00\n",
      "Epoch 5/50\n",
      "7/7 [==============================] - 0s 9ms/step - loss: -4502339.5000 - accuracy: 0.0000e+00\n",
      "Epoch 6/50\n",
      "7/7 [==============================] - 0s 17ms/step - loss: -6124179.0000 - accuracy: 0.0000e+00\n",
      "Epoch 7/50\n",
      "7/7 [==============================] - 0s 8ms/step - loss: -8253233.0000 - accuracy: 0.0000e+00\n",
      "Epoch 8/50\n",
      "7/7 [==============================] - 0s 11ms/step - loss: -10921931.0000 - accuracy: 0.0000e+00\n",
      "Epoch 9/50\n",
      "7/7 [==============================] - 0s 7ms/step - loss: -14327241.0000 - accuracy: 0.0000e+00\n",
      "Epoch 10/50\n",
      "7/7 [==============================] - 0s 6ms/step - loss: -18510084.0000 - accuracy: 0.0000e+00\n",
      "Epoch 11/50\n",
      "7/7 [==============================] - 0s 10ms/step - loss: -23749952.0000 - accuracy: 0.0000e+00\n",
      "Epoch 12/50\n",
      "7/7 [==============================] - 0s 6ms/step - loss: -30084710.0000 - accuracy: 0.0000e+00\n",
      "Epoch 13/50\n",
      "7/7 [==============================] - 0s 11ms/step - loss: -38036376.0000 - accuracy: 0.0000e+00\n",
      "Epoch 14/50\n",
      "7/7 [==============================] - 0s 7ms/step - loss: -47273652.0000 - accuracy: 0.0000e+00\n",
      "Epoch 15/50\n",
      "7/7 [==============================] - 0s 7ms/step - loss: -58285428.0000 - accuracy: 0.0000e+00\n",
      "Epoch 16/50\n",
      "7/7 [==============================] - 0s 7ms/step - loss: -71184360.0000 - accuracy: 0.0000e+00\n",
      "Epoch 17/50\n",
      "7/7 [==============================] - 0s 10ms/step - loss: -86063896.0000 - accuracy: 0.0000e+00\n",
      "Epoch 18/50\n",
      "7/7 [==============================] - 0s 12ms/step - loss: -103205048.0000 - accuracy: 0.0000e+00\n",
      "Epoch 19/50\n",
      "7/7 [==============================] - 0s 6ms/step - loss: -122524912.0000 - accuracy: 0.0000e+00\n",
      "Epoch 20/50\n",
      "7/7 [==============================] - 0s 7ms/step - loss: -144777088.0000 - accuracy: 0.0000e+00\n",
      "Epoch 21/50\n",
      "7/7 [==============================] - 0s 6ms/step - loss: -169559088.0000 - accuracy: 0.0000e+00\n",
      "Epoch 22/50\n",
      "7/7 [==============================] - 0s 7ms/step - loss: -197724672.0000 - accuracy: 0.0000e+00\n",
      "Epoch 23/50\n",
      "7/7 [==============================] - 0s 7ms/step - loss: -228533440.0000 - accuracy: 0.0000e+00\n",
      "Epoch 24/50\n",
      "7/7 [==============================] - 0s 6ms/step - loss: -262624976.0000 - accuracy: 0.0000e+00\n",
      "Epoch 25/50\n",
      "7/7 [==============================] - 0s 7ms/step - loss: -300215232.0000 - accuracy: 0.0000e+00\n",
      "Epoch 26/50\n",
      "7/7 [==============================] - 0s 12ms/step - loss: -341663200.0000 - accuracy: 0.0000e+00\n",
      "Epoch 27/50\n",
      "7/7 [==============================] - 0s 6ms/step - loss: -386567072.0000 - accuracy: 0.0000e+00\n",
      "Epoch 28/50\n",
      "7/7 [==============================] - 0s 7ms/step - loss: -436911392.0000 - accuracy: 0.0000e+00\n",
      "Epoch 29/50\n",
      "7/7 [==============================] - 0s 7ms/step - loss: -489923520.0000 - accuracy: 0.0000e+00\n",
      "Epoch 30/50\n",
      "7/7 [==============================] - 0s 6ms/step - loss: -547228736.0000 - accuracy: 0.0000e+00\n",
      "Epoch 31/50\n",
      "7/7 [==============================] - 0s 6ms/step - loss: -608740608.0000 - accuracy: 0.0000e+00\n",
      "Epoch 32/50\n",
      "7/7 [==============================] - 0s 6ms/step - loss: -678216256.0000 - accuracy: 0.0000e+00\n",
      "Epoch 33/50\n",
      "7/7 [==============================] - 0s 6ms/step - loss: -746418944.0000 - accuracy: 0.0000e+00\n",
      "Epoch 34/50\n",
      "7/7 [==============================] - 0s 7ms/step - loss: -825182656.0000 - accuracy: 0.0000e+00\n",
      "Epoch 35/50\n",
      "7/7 [==============================] - 0s 6ms/step - loss: -906123456.0000 - accuracy: 0.0000e+00\n",
      "Epoch 36/50\n",
      "7/7 [==============================] - 0s 7ms/step - loss: -993913728.0000 - accuracy: 0.0000e+00\n",
      "Epoch 37/50\n",
      "7/7 [==============================] - 0s 8ms/step - loss: -1085182848.0000 - accuracy: 0.0000e+00\n",
      "Epoch 38/50\n",
      "7/7 [==============================] - 0s 14ms/step - loss: -1184771584.0000 - accuracy: 0.0000e+00\n",
      "Epoch 39/50\n",
      "7/7 [==============================] - 0s 6ms/step - loss: -1289267712.0000 - accuracy: 0.0000e+00\n",
      "Epoch 40/50\n",
      "7/7 [==============================] - 0s 5ms/step - loss: -1398365696.0000 - accuracy: 0.0000e+00\n",
      "Epoch 41/50\n",
      "7/7 [==============================] - 0s 5ms/step - loss: -1515421056.0000 - accuracy: 0.0000e+00\n",
      "Epoch 42/50\n",
      "7/7 [==============================] - 0s 8ms/step - loss: -1639649792.0000 - accuracy: 0.0000e+00\n",
      "Epoch 43/50\n",
      "7/7 [==============================] - 0s 20ms/step - loss: -1766604928.0000 - accuracy: 0.0000e+00\n",
      "Epoch 44/50\n",
      "7/7 [==============================] - 0s 7ms/step - loss: -1901150464.0000 - accuracy: 0.0000e+00\n",
      "Epoch 45/50\n",
      "7/7 [==============================] - 0s 8ms/step - loss: -2046291200.0000 - accuracy: 0.0000e+00\n",
      "Epoch 46/50\n",
      "7/7 [==============================] - 0s 8ms/step - loss: -2199169280.0000 - accuracy: 0.0000e+00\n",
      "Epoch 47/50\n",
      "7/7 [==============================] - 0s 11ms/step - loss: -2350222080.0000 - accuracy: 0.0000e+00\n",
      "Epoch 48/50\n",
      "7/7 [==============================] - 0s 7ms/step - loss: -2516294400.0000 - accuracy: 0.0000e+00\n",
      "Epoch 49/50\n",
      "7/7 [==============================] - 0s 7ms/step - loss: -2688572416.0000 - accuracy: 0.0000e+00\n",
      "Epoch 50/50\n",
      "7/7 [==============================] - 0s 6ms/step - loss: -2866315520.0000 - accuracy: 0.0000e+00\n"
     ]
    },
    {
     "data": {
      "text/plain": [
       "<keras.callbacks.History at 0x2a404eb8730>"
      ]
     },
     "execution_count": 61,
     "metadata": {},
     "output_type": "execute_result"
    }
   ],
   "source": [
    "# Initializing the model\n",
    "model = Sequential()\n",
    "\n",
    "# Adding the first hidden layer\n",
    "model.add(Dense(units=128, activation='relu', input_dim=x_train.shape[1]))\n",
    "\n",
    "# Adding the second hidden layer\n",
    "model.add(Dense(units=64, activation='relu'))\n",
    "\n",
    "# Adding the output layer\n",
    "model.add(Dense(units=1, activation='sigmoid'))\n",
    "\n",
    "# Compiling the model\n",
    "model.compile(optimizer='adam', loss='binary_crossentropy', metrics=['accuracy'])\n",
    "\n",
    "# Training the model\n",
    "model.fit(x_train, y_train, epochs=50, batch_size=32)"
   ]
  },
  {
   "cell_type": "code",
   "execution_count": 62,
   "id": "c82f9ec1",
   "metadata": {},
   "outputs": [
    {
     "name": "stdout",
     "output_type": "stream",
     "text": [
      "2/2 [==============================] - 0s 4ms/step\n"
     ]
    }
   ],
   "source": [
    "y_pred = model.predict(x_test)"
   ]
  },
  {
   "cell_type": "code",
   "execution_count": 64,
   "id": "e7f7a143",
   "metadata": {},
   "outputs": [
    {
     "data": {
      "text/plain": [
       "-3.0956703301880157"
      ]
     },
     "execution_count": 64,
     "metadata": {},
     "output_type": "execute_result"
    }
   ],
   "source": [
    "r2_score(y_test,y_pred)"
   ]
  },
  {
   "cell_type": "markdown",
   "id": "d0c6793b",
   "metadata": {},
   "source": [
    "# LSTM"
   ]
  },
  {
   "cell_type": "code",
   "execution_count": 65,
   "id": "ef08ebbb",
   "metadata": {},
   "outputs": [],
   "source": [
    "from keras.layers import LSTM, Dense"
   ]
  },
  {
   "cell_type": "code",
   "execution_count": 66,
   "id": "65314ffa",
   "metadata": {},
   "outputs": [
    {
     "name": "stdout",
     "output_type": "stream",
     "text": [
      "Epoch 1/50\n",
      "7/7 [==============================] - 10s 19ms/step - loss: -78.6025 - accuracy: 0.0194\n",
      "Epoch 2/50\n",
      "7/7 [==============================] - 0s 22ms/step - loss: -755.1254 - accuracy: 0.0000e+00\n",
      "Epoch 3/50\n",
      "7/7 [==============================] - 0s 19ms/step - loss: -1464.1398 - accuracy: 0.0000e+00\n",
      "Epoch 4/50\n",
      "7/7 [==============================] - 0s 15ms/step - loss: -2371.6589 - accuracy: 0.0000e+00\n",
      "Epoch 5/50\n",
      "7/7 [==============================] - 0s 18ms/step - loss: -3228.2361 - accuracy: 0.0000e+00\n",
      "Epoch 6/50\n",
      "7/7 [==============================] - 0s 20ms/step - loss: -4179.1411 - accuracy: 0.0000e+00\n",
      "Epoch 7/50\n",
      "7/7 [==============================] - 0s 14ms/step - loss: -5405.1353 - accuracy: 0.0000e+00\n",
      "Epoch 8/50\n",
      "7/7 [==============================] - 0s 23ms/step - loss: -7099.9360 - accuracy: 0.0000e+00\n",
      "Epoch 9/50\n",
      "7/7 [==============================] - 0s 16ms/step - loss: -9149.4463 - accuracy: 0.0000e+00\n",
      "Epoch 10/50\n",
      "7/7 [==============================] - 0s 14ms/step - loss: -10654.7402 - accuracy: 0.0000e+00\n",
      "Epoch 11/50\n",
      "7/7 [==============================] - 0s 23ms/step - loss: -12155.5977 - accuracy: 0.0000e+00\n",
      "Epoch 12/50\n",
      "7/7 [==============================] - 0s 23ms/step - loss: -13771.2266 - accuracy: 0.0000e+00\n",
      "Epoch 13/50\n",
      "7/7 [==============================] - 0s 30ms/step - loss: -15778.5557 - accuracy: 0.0000e+00\n",
      "Epoch 14/50\n",
      "7/7 [==============================] - 0s 23ms/step - loss: -17183.0195 - accuracy: 0.0000e+00\n",
      "Epoch 15/50\n",
      "7/7 [==============================] - 0s 25ms/step - loss: -18745.2676 - accuracy: 0.0000e+00\n",
      "Epoch 16/50\n",
      "7/7 [==============================] - 0s 21ms/step - loss: -20380.4863 - accuracy: 0.0000e+00\n",
      "Epoch 17/50\n",
      "7/7 [==============================] - 0s 22ms/step - loss: -21702.2773 - accuracy: 0.0000e+00\n",
      "Epoch 18/50\n",
      "7/7 [==============================] - 0s 13ms/step - loss: -22960.6211 - accuracy: 0.0000e+00\n",
      "Epoch 19/50\n",
      "7/7 [==============================] - 0s 15ms/step - loss: -24322.3730 - accuracy: 0.0000e+00\n",
      "Epoch 20/50\n",
      "7/7 [==============================] - 0s 15ms/step - loss: -25831.7266 - accuracy: 0.0000e+00\n",
      "Epoch 21/50\n",
      "7/7 [==============================] - 0s 18ms/step - loss: -27069.9609 - accuracy: 0.0000e+00\n",
      "Epoch 22/50\n",
      "7/7 [==============================] - 0s 17ms/step - loss: -28502.5566 - accuracy: 0.0000e+00\n",
      "Epoch 23/50\n",
      "7/7 [==============================] - 0s 25ms/step - loss: -29648.7637 - accuracy: 0.0000e+00\n",
      "Epoch 24/50\n",
      "7/7 [==============================] - 0s 27ms/step - loss: -30726.1523 - accuracy: 0.0000e+00\n",
      "Epoch 25/50\n",
      "7/7 [==============================] - 0s 33ms/step - loss: -31519.0000 - accuracy: 0.0000e+00\n",
      "Epoch 26/50\n",
      "7/7 [==============================] - 0s 15ms/step - loss: -32102.5000 - accuracy: 0.0000e+00\n",
      "Epoch 27/50\n",
      "7/7 [==============================] - 0s 16ms/step - loss: -32702.8242 - accuracy: 0.0000e+00\n",
      "Epoch 28/50\n",
      "7/7 [==============================] - 0s 12ms/step - loss: -33177.4102 - accuracy: 0.0000e+00\n",
      "Epoch 29/50\n",
      "7/7 [==============================] - 0s 13ms/step - loss: -33651.7461 - accuracy: 0.0000e+00\n",
      "Epoch 30/50\n",
      "7/7 [==============================] - 0s 12ms/step - loss: -33977.6875 - accuracy: 0.0000e+00\n",
      "Epoch 31/50\n",
      "7/7 [==============================] - 0s 13ms/step - loss: -34229.1289 - accuracy: 0.0000e+00\n",
      "Epoch 32/50\n",
      "7/7 [==============================] - 0s 14ms/step - loss: -34431.8516 - accuracy: 0.0000e+00\n",
      "Epoch 33/50\n",
      "7/7 [==============================] - 0s 13ms/step - loss: -34621.1641 - accuracy: 0.0000e+00\n",
      "Epoch 34/50\n",
      "7/7 [==============================] - 0s 13ms/step - loss: -34801.5586 - accuracy: 0.0000e+00\n",
      "Epoch 35/50\n",
      "7/7 [==============================] - 0s 23ms/step - loss: -34978.9062 - accuracy: 0.0000e+00\n",
      "Epoch 36/50\n",
      "7/7 [==============================] - 0s 28ms/step - loss: -35135.0117 - accuracy: 0.0000e+00\n",
      "Epoch 37/50\n",
      "7/7 [==============================] - 0s 28ms/step - loss: -35278.3398 - accuracy: 0.0000e+00\n",
      "Epoch 38/50\n",
      "7/7 [==============================] - 0s 20ms/step - loss: -35404.9961 - accuracy: 0.0000e+00\n",
      "Epoch 39/50\n",
      "7/7 [==============================] - 0s 28ms/step - loss: -35512.1914 - accuracy: 0.0000e+00\n",
      "Epoch 40/50\n",
      "7/7 [==============================] - 0s 23ms/step - loss: -35602.3008 - accuracy: 0.0000e+00\n",
      "Epoch 41/50\n",
      "7/7 [==============================] - 0s 18ms/step - loss: -35677.3555 - accuracy: 0.0000e+00\n",
      "Epoch 42/50\n",
      "7/7 [==============================] - 0s 20ms/step - loss: -35744.3320 - accuracy: 0.0000e+00\n",
      "Epoch 43/50\n",
      "7/7 [==============================] - 0s 41ms/step - loss: -35803.7461 - accuracy: 0.0000e+00\n",
      "Epoch 44/50\n",
      "7/7 [==============================] - 0s 16ms/step - loss: -35860.4883 - accuracy: 0.0000e+00\n",
      "Epoch 45/50\n",
      "7/7 [==============================] - 0s 26ms/step - loss: -35912.0977 - accuracy: 0.0000e+00\n",
      "Epoch 46/50\n",
      "7/7 [==============================] - 0s 18ms/step - loss: -35961.8867 - accuracy: 0.0000e+00\n",
      "Epoch 47/50\n",
      "7/7 [==============================] - 0s 13ms/step - loss: -36007.3906 - accuracy: 0.0000e+00\n",
      "Epoch 48/50\n",
      "7/7 [==============================] - 0s 12ms/step - loss: -36047.8984 - accuracy: 0.0000e+00\n",
      "Epoch 49/50\n",
      "7/7 [==============================] - 0s 23ms/step - loss: -36089.3867 - accuracy: 0.0000e+00\n",
      "Epoch 50/50\n",
      "7/7 [==============================] - 0s 23ms/step - loss: -36127.6875 - accuracy: 0.0000e+00\n"
     ]
    },
    {
     "data": {
      "text/plain": [
       "<keras.callbacks.History at 0x2a409012170>"
      ]
     },
     "execution_count": 66,
     "metadata": {},
     "output_type": "execute_result"
    }
   ],
   "source": [
    "# Initializing the model\n",
    "model = Sequential()\n",
    "\n",
    "# Adding the LSTM layer\n",
    "model.add(LSTM(units=50, return_sequences=True, input_shape=(x_train.shape[1], 1)))\n",
    "\n",
    "# Adding the output layer\n",
    "model.add(Dense(units=1, activation='sigmoid'))\n",
    "\n",
    "# Compiling the model\n",
    "model.compile(optimizer='adam', loss='binary_crossentropy', metrics=['accuracy'])\n",
    "\n",
    "# Training the model\n",
    "model.fit(x_train, y_train, epochs=50, batch_size=32)"
   ]
  },
  {
   "cell_type": "code",
   "execution_count": 67,
   "id": "c425ab99",
   "metadata": {},
   "outputs": [
    {
     "name": "stdout",
     "output_type": "stream",
     "text": [
      "2/2 [==============================] - 2s 17ms/step\n"
     ]
    }
   ],
   "source": [
    "y_pred = model.predict(x_test)"
   ]
  },
  {
   "cell_type": "markdown",
   "id": "a7daed8e",
   "metadata": {},
   "source": [
    "# XGBoost Regressor"
   ]
  },
  {
   "cell_type": "code",
   "execution_count": 69,
   "id": "cb230c61",
   "metadata": {},
   "outputs": [],
   "source": [
    "from xgboost import XGBRegressor"
   ]
  },
  {
   "cell_type": "code",
   "execution_count": 71,
   "id": "aa731ae4",
   "metadata": {},
   "outputs": [
    {
     "name": "stdout",
     "output_type": "stream",
     "text": [
      "R^2 Score:  0.7791454385210551\n"
     ]
    }
   ],
   "source": [
    "# Train the XGBoost model\n",
    "model = XGBRegressor()\n",
    "model.fit(x_train, y_train)\n",
    "\n",
    "# Make predictions on the test set\n",
    "y_pred = model.predict(x_test)\n",
    "\n",
    "# Calculate the R^2 score\n",
    "r2 = r2_score(y_test, y_pred)\n",
    "print(\"R^2 Score: \", r2)"
   ]
  },
  {
   "cell_type": "code",
   "execution_count": null,
   "id": "918793a3",
   "metadata": {},
   "outputs": [],
   "source": []
  }
 ],
 "metadata": {
  "kernelspec": {
   "display_name": "Python 3 (ipykernel)",
   "language": "python",
   "name": "python3"
  },
  "language_info": {
   "codemirror_mode": {
    "name": "ipython",
    "version": 3
   },
   "file_extension": ".py",
   "mimetype": "text/x-python",
   "name": "python",
   "nbconvert_exporter": "python",
   "pygments_lexer": "ipython3",
   "version": "3.10.8"
  }
 },
 "nbformat": 4,
 "nbformat_minor": 5
}
